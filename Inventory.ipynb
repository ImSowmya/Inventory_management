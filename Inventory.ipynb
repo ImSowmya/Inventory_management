{
 "cells": [
  {
   "cell_type": "code",
   "execution_count": 17,
   "metadata": {},
   "outputs": [
    {
     "name": "stdout",
     "output_type": "stream",
     "text": [
      "5 star\n",
      "5\n",
      "10\n"
     ]
    }
   ],
   "source": [
    "pid=input(\"PID: \")\n",
    "q=input(\"q: \")\n",
    "fd=open(\"text.txt\",\"r\")\n",
    "products=fd.read()\n",
    "products=products.split(\"\\n\")\n",
    "updated_product=[]\n",
    "for prod in products:\n",
    "    #print(prod)\n",
    "    product=prod.split(\",\")\n",
    "    if pid==product[0] and q>=product[3]:\n",
    "        print(product[1])\n",
    "        print(product[2])\n",
    "        print(int(q)*int(product[2]))\n",
    "        product[3]=str(int(product[3])-int(q))\n",
    "    updated_product.append(product)\n",
    "    #print(updated_product)"
   ]
  }
 ],
 "metadata": {
  "kernelspec": {
   "display_name": "Python 3",
   "language": "python",
   "name": "python3"
  },
  "language_info": {
   "codemirror_mode": {
    "name": "ipython",
    "version": 3
   },
   "file_extension": ".py",
   "mimetype": "text/x-python",
   "name": "python",
   "nbconvert_exporter": "python",
   "pygments_lexer": "ipython3",
   "version": "3.11.0"
  },
  "orig_nbformat": 4
 },
 "nbformat": 4,
 "nbformat_minor": 2
}
