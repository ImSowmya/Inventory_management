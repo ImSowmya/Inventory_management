{
 "cells": [
  {
   "cell_type": "code",
   "execution_count": 36,
   "metadata": {},
   "outputs": [
    {
     "name": "stdout",
     "output_type": "stream",
     "text": [
      "---------------------------\n",
      "\n",
      "Purchased product: cake\n",
      "\n",
      "Price of the product:300\n",
      "\n",
      "Quantity purchased: 1\n",
      "\n",
      "Total cost: 300\n",
      "\n",
      "---------------------------\n"
     ]
    }
   ],
   "source": [
    "pid=input(\"PID: \")\n",
    "q=input(\"q: \")\n",
    "fd=open(\"text.txt\",\"r\")\n",
    "products=fd.readlines()\n",
    "fd.close()\n",
    "updated_product=[]\n",
    "for prod in products:\n",
    "    product=prod.split(\",\")\n",
    "    if pid==product[0] and int(q)<=int(product[3]):\n",
    "        print(\"---------------------------\\n\\nPurchased product: \"+product[1])\n",
    "        print(\"\\nPrice of the product: \"+product[2])\n",
    "        print(\"\\nQuantity purchased: \"+q)\n",
    "        print(\"\\nTotal cost: \"+str(int(q)*int(product[2])))\n",
    "        print(\"\\n---------------------------\")\n",
    "        product[3]=str(int(product[3])-int(q))+\"\\n\"\n",
    "    updated_product.append(product)\n",
    "fd=open(\"text.txt\",\"w\")    \n",
    "for i in updated_product:\n",
    "        fd.write(\",\".join(i))\n",
    "fd.close()"
   ]
  },
  {
   "cell_type": "code",
   "execution_count": null,
   "metadata": {},
   "outputs": [],
   "source": []
  }
 ],
 "metadata": {
  "kernelspec": {
   "display_name": "Python 3",
   "language": "python",
   "name": "python3"
  },
  "language_info": {
   "codemirror_mode": {
    "name": "ipython",
    "version": 3
   },
   "file_extension": ".py",
   "mimetype": "text/x-python",
   "name": "python",
   "nbconvert_exporter": "python",
   "pygments_lexer": "ipython3",
   "version": "3.11.0"
  },
  "orig_nbformat": 4
 },
 "nbformat": 4,
 "nbformat_minor": 2
}
