{
 "cells": [
  {
   "cell_type": "code",
   "execution_count": null,
   "metadata": {},
   "outputs": [],
   "source": [
    "import time\n",
    "name=input(\"Enter your name: \")\n",
    "phno=input(\"Enter your phone number: \")\n",
    "pid=input(\"Enter the Product ID: \")\n",
    "q=input(\"Enter the Quantity : \")\n",
    "fd=open(\"text.txt\",\"r\")\n",
    "products=fd.readlines()\n",
    "fd.close()\n",
    "updated_product=[]\n",
    "for prod in products:\n",
    "    product=prod.split(\",\")\n",
    "    product[3]=product[3].strip(\"\\n\")\n",
    "    if pid==product[0]:\n",
    "        if int(q)<=int(product[3]):\n",
    "            print(\"---------------------------\\n\\nPurchased product: \"+product[1])\n",
    "            print(\"\\nPrice of the product: \"+product[2])\n",
    "            print(\"\\nQuantity purchased: \"+q)\n",
    "            print(\"\\n---------------------------\")\n",
    "            print(\"\\nTotal cost: \"+str(int(q)*int(product[2])))\n",
    "            print(\"\\n---------------------------\")\n",
    "            product[3]=str(int(product[3])-int(q))\n",
    "            fd=open(\"sales.txt\",\"a\")\n",
    "            fd.write(name+\",\"+phno+\",\"+pid+\",\"+product[1]+\",\"+q+\",\"+str(int(q)*int(product[2]))+\",\"+time.ctime()+\"\\n\")\n",
    "            fd.close()\n",
    "        else:\n",
    "            if int(product[3]) == 0:\n",
    "                print(\"Sorry, This product is out of stock now\")\n",
    "            else:\n",
    "                print(\"Currently we only have \"+product[3]+\" stocks for the product - \"+product[1]+\"\\nDo you want to purchase it?\\nY or N?\\n\")\n",
    "                opt=input()\n",
    "                if opt=='Y'or opt=='y':\n",
    "                    print(\"---------------------------\\n\\nPurchased product: \"+product[1])\n",
    "                    print(\"\\nPrice of the product: \"+product[2])\n",
    "                    print(\"\\nQuantity purchased: \"+product[3])\n",
    "                    print(\"\\n---------------------------\")\n",
    "                    print(\"\\nTotal cost: \"+str(int(product[3])*int(product[2])))\n",
    "                    print(\"\\n---------------------------\")\n",
    "                    fd=open(\"sales.txt\",\"a\")\n",
    "                    fd.write(name+\",\"+phno+\",\"+pid+\",\"+product[1]+\",\"+product[3]+\",\"+str(int(product[3])*int(product[2]))+\",\"+time.ctime()+\"\\n\")\n",
    "                    fd.close()\n",
    "                    product[3]=\"0\" \n",
    "                else:\n",
    "                    print(\"Sorry for the inconvenience, We will restock soon\")      \n",
    "    updated_product.append(product)\n",
    "fd=open(\"text.txt\",\"w\")\n",
    "j=\"\" \n",
    "for i in updated_product:\n",
    "    j=j+(\",\".join(i)+\"\\n\")\n",
    "fd.write(j[:-1])\n",
    "fd.close()"
   ]
  },
  {
   "cell_type": "code",
   "execution_count": null,
   "metadata": {},
   "outputs": [],
   "source": []
  }
 ],
 "metadata": {
  "kernelspec": {
   "display_name": "Python 3",
   "language": "python",
   "name": "python3"
  },
  "language_info": {
   "codemirror_mode": {
    "name": "ipython",
    "version": 3
   },
   "file_extension": ".py",
   "mimetype": "text/x-python",
   "name": "python",
   "nbconvert_exporter": "python",
   "pygments_lexer": "ipython3",
   "version": "3.11.0"
  },
  "orig_nbformat": 4
 },
 "nbformat": 4,
 "nbformat_minor": 2
}
